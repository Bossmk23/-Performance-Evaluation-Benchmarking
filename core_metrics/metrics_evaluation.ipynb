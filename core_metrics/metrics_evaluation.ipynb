{
 "cells": [
  {
   "cell_type": "code",
   "execution_count": 1,
   "id": "931dc4ec",
   "metadata": {},
   "outputs": [
    {
     "name": "stdout",
     "output_type": "stream",
     "text": [
      "\n",
      "Logistic Regression Evaluation Metrics:\n",
      "Accuracy: 1.0000\n",
      "Precision (macro): 1.0000\n",
      "Recall (macro): 1.0000\n",
      "F1 Score (macro): 1.0000\n",
      "\n",
      "Random Forest Evaluation Metrics:\n",
      "Accuracy: 1.0000\n",
      "Precision (macro): 1.0000\n",
      "Recall (macro): 1.0000\n",
      "F1 Score (macro): 1.0000\n",
      "\n",
      "Classification Report for Logistic Regression:\n",
      "              precision    recall  f1-score   support\n",
      "\n",
      "      setosa       1.00      1.00      1.00        10\n",
      "  versicolor       1.00      1.00      1.00         9\n",
      "   virginica       1.00      1.00      1.00        11\n",
      "\n",
      "    accuracy                           1.00        30\n",
      "   macro avg       1.00      1.00      1.00        30\n",
      "weighted avg       1.00      1.00      1.00        30\n",
      "\n",
      "\n",
      "Classification Report for Random Forest:\n",
      "              precision    recall  f1-score   support\n",
      "\n",
      "      setosa       1.00      1.00      1.00        10\n",
      "  versicolor       1.00      1.00      1.00         9\n",
      "   virginica       1.00      1.00      1.00        11\n",
      "\n",
      "    accuracy                           1.00        30\n",
      "   macro avg       1.00      1.00      1.00        30\n",
      "weighted avg       1.00      1.00      1.00        30\n",
      "\n"
     ]
    },
    {
     "data": {
      "image/png": "[encoded data removed]",
      "text/plain": [
       "<Figure size 360x288 with 2 Axes>"
      ]
     },
     "metadata": {
      "needs_background": "light"
     },
     "output_type": "display_data"
    },
    {
     "data": {
      "image/png": "[encoded data removed]",
      "text/plain": [
       "<Figure size 360x288 with 2 Axes>"
      ]
     },
     "metadata": {
      "needs_background": "light"
     },
     "output_type": "display_data"
    }
   ],
   "source": [
    "# Import necessary libraries\n",
    "import numpy as np\n",
    "import pandas as pd\n",
    "import matplotlib.pyplot as plt\n",
    "from sklearn.datasets import load_iris\n",
    "from sklearn.model_selection import train_test_split\n",
    "from sklearn.linear_model import LogisticRegression\n",
    "from sklearn.ensemble import RandomForestClassifier\n",
    "from sklearn.metrics import accuracy_score, precision_score, recall_score, f1_score, confusion_matrix, classification_report\n",
    "import json\n",
    "import os\n",
    "\n",
    "# Create a folder to store results if it doesn't exist\n",
    "os.makedirs(\"core_metrics\", exist_ok=True)\n",
    "\n",
    "# Load the Iris dataset (a standard multiclass classification dataset)\n",
    "iris = load_iris()\n",
    "X = iris.data\n",
    "y = iris.target\n",
    "class_names = iris.target_names\n",
    "\n",
    "# Split the dataset into training and testing sets\n",
    "X_train, X_test, y_train, y_test = train_test_split(X, y, test_size=0.2, random_state=42)\n",
    "\n",
    "# Define a function to calculate evaluation metrics\n",
    "def evaluate_model(model, X_test, y_test):\n",
    "    y_pred = model.predict(X_test)\n",
    "    return {\n",
    "        \"Accuracy\": accuracy_score(y_test, y_pred),\n",
    "        \"Precision (macro)\": precision_score(y_test, y_pred, average='macro'),\n",
    "        \"Recall (macro)\": recall_score(y_test, y_pred, average='macro'),\n",
    "        \"F1 Score (macro)\": f1_score(y_test, y_pred, average='macro'),\n",
    "        \"Confusion Matrix\": confusion_matrix(y_test, y_pred).tolist()  # Convert to list for JSON saving\n",
    "    }\n",
    "\n",
    "# Dictionary to store results from each model\n",
    "results = {}\n",
    "\n",
    "# Train and evaluate Logistic Regression\n",
    "lr_model = LogisticRegression(max_iter=200)\n",
    "lr_model.fit(X_train, y_train)\n",
    "results['Logistic Regression'] = evaluate_model(lr_model, X_test, y_test)\n",
    "\n",
    "# Train and evaluate Random Forest Classifier\n",
    "rf_model = RandomForestClassifier()\n",
    "rf_model.fit(X_train, y_train)\n",
    "results['Random Forest'] = evaluate_model(rf_model, X_test, y_test)\n",
    "\n",
    "# Print evaluation results in readable format\n",
    "for model, metrics in results.items():\n",
    "    print(f\"\\n{model} Evaluation Metrics:\")\n",
    "    for metric_name, value in metrics.items():\n",
    "        if metric_name != \"Confusion Matrix\":\n",
    "            print(f\"{metric_name}: {value:.4f}\")\n",
    "\n",
    "# Print classification reports for detailed per-class analysis \n",
    "print(\"\\nClassification Report for Logistic Regression:\")\n",
    "print(classification_report(y_test, lr_model.predict(X_test), target_names=class_names))\n",
    "\n",
    "print(\"\\nClassification Report for Random Forest:\")\n",
    "print(classification_report(y_test, rf_model.predict(X_test), target_names=class_names))\n",
    "\n",
    "# Save full results to a JSON file\n",
    "with open(\"core_metrics/results.json\", \"w\") as f:\n",
    "    json.dump(results, f, indent=4)\n",
    "\n",
    "# Save flat results to CSV \n",
    "flat_results = []\n",
    "for model, metrics in results.items():\n",
    "    row = {\"Model\": model}\n",
    "    for key, value in metrics.items():\n",
    "        if key != \"Confusion Matrix\":\n",
    "            row[key] = value\n",
    "    flat_results.append(row)\n",
    "\n",
    "pd.DataFrame(flat_results).to_csv(\"core_metrics/results.csv\", index=False)\n",
    "\n",
    "# Optional: Visualize confusion matrices for both models\n",
    "for model, metrics in results.items():\n",
    "    cm = np.array(metrics[\"Confusion Matrix\"])\n",
    "    plt.figure(figsize=(5, 4))\n",
    "    plt.imshow(cm, interpolation='nearest', cmap=plt.cm.Blues)\n",
    "    plt.title(f'Confusion Matrix: {model}')\n",
    "    plt.colorbar()\n",
    "    tick_marks = np.arange(len(class_names))\n",
    "    plt.xticks(tick_marks, class_names, rotation=45)\n",
    "    plt.yticks(tick_marks, class_names)\n",
    "    plt.xlabel('Predicted Label')\n",
    "    plt.ylabel('True Label')\n",
    "    plt.tight_layout()\n",
    "    plt.savefig(f\"core_metrics/{model}_confusion_matrix.png\")  # Save plot as image\n",
    "    plt.show()\n"
   ]
  },
  {
   "cell_type": "code",
   "execution_count": null,
   "id": "6cfa00be",
   "metadata": {},
   "outputs": [],
   "source": []
  }
 ],
 "metadata": {
  "kernelspec": {
   "display_name": "Python 3",
   "language": "python",
   "name": "python3"
  },
  "language_info": {
   "codemirror_mode": {
    "name": "ipython",
    "version": 3
   },
   "file_extension": ".py",
   "mimetype": "text/x-python",
   "name": "python",
   "nbconvert_exporter": "python",
   "pygments_lexer": "ipython3",
   "version": "3.7.6"
  }
 },
 "nbformat": 4,
 "nbformat_minor": 5
}
